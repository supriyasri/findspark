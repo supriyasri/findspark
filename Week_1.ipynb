{
  "nbformat": 4,
  "nbformat_minor": 0,
  "metadata": {
    "colab": {
      "name": "Week_1.ipynb",
      "provenance": [],
      "authorship_tag": "ABX9TyNnicqxp0MNPWshsm9qt1Vm",
      "include_colab_link": true
    },
    "kernelspec": {
      "name": "python3",
      "display_name": "Python 3"
    },
    "language_info": {
      "name": "python"
    }
  },
  "cells": [
    {
      "cell_type": "markdown",
      "metadata": {
        "id": "view-in-github",
        "colab_type": "text"
      },
      "source": [
        "<a href=\"https://colab.research.google.com/github/supriyasri/findspark/blob/master/Week_1.ipynb\" target=\"_parent\"><img src=\"https://colab.research.google.com/assets/colab-badge.svg\" alt=\"Open In Colab\"/></a>"
      ]
    },
    {
      "cell_type": "code",
      "metadata": {
        "id": "3B5-r12iabTS"
      },
      "source": [
        "# Questions and data taken from  Week 1 of https://8weeksqlchallenge.com/resources/\n",
        "\n",
        "#q1\n",
        "select s.customer_id, sum(m.price) from Sales s\n",
        "join Menu m on s.product_id=m.product_id\n",
        "group by s.customer_id"
      ],
      "execution_count": null,
      "outputs": []
    },
    {
      "cell_type": "code",
      "metadata": {
        "id": "A0iDx90gah-M"
      },
      "source": [
        "#q2\n",
        "SELECT customer_id, count(order_date)\n",
        "FROM dannys_diner.sales\n",
        "\n",
        "GROUP BY customer_id\n",
        "ORDER BY customer_id"
      ],
      "execution_count": null,
      "outputs": []
    },
    {
      "cell_type": "code",
      "metadata": {
        "id": "deQilQQ0aiBE"
      },
      "source": [
        "#q3\n",
        "\n",
        "select * from (\n",
        "select s.customer_id,  s.product_id,dense_rank() over(PARTITION BY s.customer_id order by s.order_date) as rank, m.product_name\n",
        "from Sales s join Menu m\n",
        "on s.product_id=m.product_id )\n",
        "where rank =1"
      ],
      "execution_count": null,
      "outputs": []
    },
    {
      "cell_type": "code",
      "metadata": {
        "id": "DuG3qbSyaiEL"
      },
      "source": [
        "#q4\n",
        "\n",
        "select s.product_id,s.product_name, count(m.product_name ) count\n",
        "from Sales s join Menu m\n",
        "on s.product_id=m.product_id\n",
        "group by s.product_id\n",
        "order by s.product_id desc limit 1"
      ],
      "execution_count": null,
      "outputs": []
    },
    {
      "cell_type": "code",
      "metadata": {
        "id": "I5O7Awx_aiHP"
      },
      "source": [
        "# q5\n",
        "\n",
        "select s.customer_id, m.product_id, count(m.product_name)\n",
        "from Sales s join Menu m\n",
        "on s.product_id=m.product_id\n",
        "group by s.customer_id, m.product_id"
      ],
      "execution_count": null,
      "outputs": []
    },
    {
      "cell_type": "code",
      "metadata": {
        "id": "YlZ0eJIyaiKZ"
      },
      "source": [
        "# q6\n",
        "\n",
        "with\n",
        "purchasetable\n",
        "AS\n",
        "\n",
        "(SELECT s.customer_id,s.product_id,\n",
        "DENSE_RANK () OVER(PARTITION BY s.customer_id ORDER BY s.order_date) rank_orderdate, s.order_date\n",
        "FROM Sales s LEFT JOIN Members m\n",
        "ON s.customer_id=m.customer_id\n",
        "WHERE s.order_date >= m.join_date\n",
        ")\n",
        "\n",
        "SELECT p.customer_id, menu.product_name\n",
        "FROM purchasetable p JOIN menu\n",
        "ON p.product_id=menu.product_id\n",
        "WHERE rank_orderdate=1;"
      ],
      "execution_count": null,
      "outputs": []
    },
    {
      "cell_type": "code",
      "metadata": {
        "id": "MzJ0pUhMbFFt"
      },
      "source": [
        "# q7\n",
        "\n",
        "with\n",
        "purchasetable\n",
        "AS\n",
        "(\n",
        "SELECT sales.customer_id, sales.product_id, DENSE_RANK() OVER(PARTITION BY sales.customer_id ORDER BY sales.order_date) AS SaleRank, sales.order_date\n",
        "FROM sales\n",
        "LEFT JOIN members\n",
        "ON sales.customer_id = members.customer_id\n",
        "WHERE sales.order_date >= members.join_date\n",
        ")\n",
        "SELECT p.customer_id, menu.product_name\n",
        "FROM purchasetable p\n",
        "JOIN menu ON p.product_id < menu.product_id\n",
        "WHERE SaleRank = 1;"
      ],
      "execution_count": null,
      "outputs": []
    },
    {
      "cell_type": "code",
      "metadata": {
        "id": "LkszVL4_bFPX"
      },
      "source": [
        "# q8\n",
        "\n",
        "WITH\n",
        "\n",
        "Purchasetable\n",
        "AS\n",
        "( select s.customer_id, s.order_date, s.product_id\n",
        "FROM sales s left join members m\n",
        "ON s.customer_id= m.customer_id\n",
        "\n",
        "WHERE s.order_date < m.join_date\n",
        ")\n",
        "select  p.customer_id,count(p.product_id), sum(me.price)\n",
        "from Purchasetable p left join menu me\n",
        "ON p.product_id= me.product_id\n",
        "group by p.customer_id"
      ],
      "execution_count": null,
      "outputs": []
    },
    {
      "cell_type": "code",
      "metadata": {
        "id": "ahYrFnJLbMth"
      },
      "source": [
        "# q9\n",
        "\n",
        "select s.customer_id,\t\n",
        "sum( case\t\n",
        "WHEN s.product_id =1 THEN (m.price*20)\t\n",
        "ELSE m.price*10\t\n",
        "END ) as points\t\n",
        "from Sales s LEFT JOIN Menu m\t\n",
        "ON s.product_id=m.product_id\t\n",
        "GROUP BY s.customer_id\t"
      ],
      "execution_count": null,
      "outputs": []
    },
    {
      "cell_type": "code",
      "metadata": {
        "id": "1ItCZSUMbM2X"
      },
      "source": [
        "# q10\n",
        "\n",
        "WITH\t\n",
        "member_order_points\t\n",
        "AS\t\n",
        "(\t\n",
        "select s.customer_id, s.order_date,members.join_date, menu.product_name, menu.price,\t\n",
        "case when s.order_date >= members.join_date  AND s.order_date < members.join_date +7 THEN 2*menu.price\t\n",
        "when menu.product_name='sushi' then 2*menu_price\t\n",
        "\t\n",
        "else menu.price\t\n",
        "END\t\n",
        "as points\t\n",
        "\t\n",
        "FROM Sales s LEFT JOIN menu\t\n",
        "ON s.product_id=menu.product_id\t\n",
        "INNER JOIN members\t\n",
        "ON s.customer_id=members.customer_id\t\n",
        ")\t\n",
        "\t\n",
        "select s.customer_id,  SUM(points)\t\n",
        "FROM member_order_points as mop\t\n",
        "WHERE order_date <= '2021-01-21'\t\n",
        "GROUP BY customer_id\t\n",
        "ORDER BY customer_id\t"
      ],
      "execution_count": null,
      "outputs": []
    }
  ]
}